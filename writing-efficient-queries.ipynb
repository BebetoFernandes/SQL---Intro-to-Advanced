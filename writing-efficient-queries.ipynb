{
 "cells": [
  {
   "cell_type": "markdown",
   "id": "682c5382",
   "metadata": {
    "papermill": {
     "duration": 0.009691,
     "end_time": "2021-11-09T00:07:35.477948",
     "exception": false,
     "start_time": "2021-11-09T00:07:35.468257",
     "status": "completed"
    },
    "tags": []
   },
   "source": [
    "# Introduction\n",
    "\n",
    "Sometimes it doesn't matter whether your query is efficient or not. For example, you might write a query you expect to run only once, and it might be working on a small dataset. In this case, anything that gives you the answer you need will do.\n",
    "\n",
    "But what about queries that will be run many times, like a query that feeds data to a website? Those need to be efficient so you don't leave users waiting for your website to load.\n",
    "\n",
    "Or what about queries on huge datasets? These can be slow and cost a business a lot of money if they are written poorly.\n",
    "\n",
    "Most database systems have a **query optimizer** that attempts to interpret/execute your query in the most effective way possible. But several strategies can still yield huge savings in many cases.\n",
    "\n",
    "# Some useful functions\n",
    "\n",
    "We will use two functions to compare the efficiency of different queries:\n",
    "- `show_amount_of_data_scanned()` shows the amount of data the query uses.\n",
    "- `show_time_to_run()` prints how long it takes for the query to execute."
   ]
  },
  {
   "cell_type": "code",
   "execution_count": 1,
   "id": "de7e48f1",
   "metadata": {
    "_kg_hide-input": true,
    "execution": {
     "iopub.execute_input": "2021-11-09T00:07:35.505199Z",
     "iopub.status.busy": "2021-11-09T00:07:35.504545Z",
     "iopub.status.idle": "2021-11-09T00:07:35.517953Z",
     "shell.execute_reply": "2021-11-09T00:07:35.517169Z"
    },
    "papermill": {
     "duration": 0.031753,
     "end_time": "2021-11-09T00:07:35.518188",
     "exception": false,
     "start_time": "2021-11-09T00:07:35.486435",
     "status": "completed"
    },
    "tags": []
   },
   "outputs": [
    {
     "name": "stdout",
     "output_type": "stream",
     "text": [
      "Using Kaggle's public dataset BigQuery integration.\n"
     ]
    }
   ],
   "source": [
    "\n",
    "from google.cloud import bigquery\n",
    "from time import time\n",
    "\n",
    "client = bigquery.Client()\n",
    "\n",
    "def show_amount_of_data_scanned(query):\n",
    "    # dry_run lets us see how much data the query uses without running it\n",
    "    dry_run_config = bigquery.QueryJobConfig(dry_run=True)\n",
    "    query_job = client.query(query, job_config=dry_run_config)\n",
    "    print('Data processed: {} GB'.format(round(query_job.total_bytes_processed / 10**9, 3)))\n",
    "    \n",
    "def show_time_to_run(query):\n",
    "    time_config = bigquery.QueryJobConfig(use_query_cache=False)\n",
    "    start = time()\n",
    "    query_result = client.query(query, job_config=time_config).result()\n",
    "    end = time()\n",
    "    print('Time to run: {} seconds'.format(round(end-start, 3)))"
   ]
  },
  {
   "cell_type": "markdown",
   "id": "7fc13ce5",
   "metadata": {
    "papermill": {
     "duration": 0.008254,
     "end_time": "2021-11-09T00:07:35.535514",
     "exception": false,
     "start_time": "2021-11-09T00:07:35.527260",
     "status": "completed"
    },
    "tags": []
   },
   "source": [
    "# Strategies\n",
    "\n",
    "### 1) Only select the columns you want. \n",
    "\n",
    "It is tempting to start queries with **SELECT * FROM ...**. It's convenient because you don't need to think about which columns you need. But it can be very inefficient.\n",
    "\n",
    "This is especially important if there are text fields that you don't need, because text fields tend to be larger than other fields."
   ]
  },
  {
   "cell_type": "code",
   "execution_count": 2,
   "id": "eeda6819",
   "metadata": {
    "execution": {
     "iopub.execute_input": "2021-11-09T00:07:35.562405Z",
     "iopub.status.busy": "2021-11-09T00:07:35.557502Z",
     "iopub.status.idle": "2021-11-09T00:07:36.305534Z",
     "shell.execute_reply": "2021-11-09T00:07:36.305012Z"
    },
    "papermill": {
     "duration": 0.761601,
     "end_time": "2021-11-09T00:07:36.305679",
     "exception": false,
     "start_time": "2021-11-09T00:07:35.544078",
     "status": "completed"
    },
    "tags": []
   },
   "outputs": [
    {
     "name": "stdout",
     "output_type": "stream",
     "text": [
      "Data processed: 2623.284 GB\n",
      "Data processed: 2.466 GB\n"
     ]
    }
   ],
   "source": [
    "star_query = \"SELECT * FROM `bigquery-public-data.github_repos.contents`\"\n",
    "show_amount_of_data_scanned(star_query)\n",
    "\n",
    "basic_query = \"SELECT size, binary FROM `bigquery-public-data.github_repos.contents`\"\n",
    "show_amount_of_data_scanned(basic_query)"
   ]
  },
  {
   "cell_type": "markdown",
   "id": "5af6147f",
   "metadata": {
    "papermill": {
     "duration": 0.008795,
     "end_time": "2021-11-09T00:07:36.323541",
     "exception": false,
     "start_time": "2021-11-09T00:07:36.314746",
     "status": "completed"
    },
    "tags": []
   },
   "source": [
    "In this case, we see a 1000X reduction in data being scanned to complete the query, because the raw data contained a text field that was 1000X larger than the fields we might need."
   ]
  },
  {
   "cell_type": "markdown",
   "id": "1ad04918",
   "metadata": {
    "papermill": {
     "duration": 0.008687,
     "end_time": "2021-11-09T00:07:36.341291",
     "exception": false,
     "start_time": "2021-11-09T00:07:36.332604",
     "status": "completed"
    },
    "tags": []
   },
   "source": [
    "### 2) Read less data.\n",
    "\n",
    "Both queries below calculate the average duration (in seconds) of one-way bike trips in the city of San Francisco."
   ]
  },
  {
   "cell_type": "code",
   "execution_count": 3,
   "id": "d15037b9",
   "metadata": {
    "execution": {
     "iopub.execute_input": "2021-11-09T00:07:36.362764Z",
     "iopub.status.busy": "2021-11-09T00:07:36.361778Z",
     "iopub.status.idle": "2021-11-09T00:07:37.098522Z",
     "shell.execute_reply": "2021-11-09T00:07:37.099076Z"
    },
    "papermill": {
     "duration": 0.749132,
     "end_time": "2021-11-09T00:07:37.099256",
     "exception": false,
     "start_time": "2021-11-09T00:07:36.350124",
     "status": "completed"
    },
    "tags": []
   },
   "outputs": [
    {
     "name": "stdout",
     "output_type": "stream",
     "text": [
      "Data processed: 0.076 GB\n",
      "Data processed: 0.06 GB\n"
     ]
    }
   ],
   "source": [
    "more_data_query = \"\"\"\n",
    "                  SELECT MIN(start_station_name) AS start_station_name,\n",
    "                      MIN(end_station_name) AS end_station_name,\n",
    "                      AVG(duration_sec) AS avg_duration_sec\n",
    "                  FROM `bigquery-public-data.san_francisco.bikeshare_trips`\n",
    "                  WHERE start_station_id != end_station_id \n",
    "                  GROUP BY start_station_id, end_station_id\n",
    "                  LIMIT 10\n",
    "                  \"\"\"\n",
    "show_amount_of_data_scanned(more_data_query)\n",
    "\n",
    "less_data_query = \"\"\"\n",
    "                  SELECT start_station_name,\n",
    "                      end_station_name,\n",
    "                      AVG(duration_sec) AS avg_duration_sec                  \n",
    "                  FROM `bigquery-public-data.san_francisco.bikeshare_trips`\n",
    "                  WHERE start_station_name != end_station_name\n",
    "                  GROUP BY start_station_name, end_station_name\n",
    "                  LIMIT 10\n",
    "                  \"\"\"\n",
    "show_amount_of_data_scanned(less_data_query)"
   ]
  },
  {
   "cell_type": "markdown",
   "id": "4ab705ae",
   "metadata": {
    "papermill": {
     "duration": 0.009935,
     "end_time": "2021-11-09T00:07:37.119450",
     "exception": false,
     "start_time": "2021-11-09T00:07:37.109515",
     "status": "completed"
    },
    "tags": []
   },
   "source": [
    "Since there is a 1:1 relationship between the station ID and the station name, we don't need to use the `start_station_id` and `end_station_id` columns in the query.  By using only the columns with the station IDs, we scan less data.\n",
    "\n",
    "### 3) Avoid N:N JOINs.\n",
    "\n",
    "Most of the JOINs that you have executed in this course have been **1:1 JOINs**.  In this case, each row in each table has at most one match in the other table.\n",
    "\n",
    "![JOIN](https://i.imgur.com/fp7oMLq.png)\n",
    "\n",
    "Another type of JOIN is an **N:1 JOIN**.  Here, each row in one table matches potentially many rows in the other table.  \n",
    "\n",
    "![JOIN](https://i.imgur.com/7PxE0Mr.png)\n",
    "\n",
    "Finally, an **N:N JOIN** is one where a group of rows in one table can match a group of rows in the other table. Note that in general, all other things equal, this type of JOIN produces a table with many more rows than either of the two (original) tables that are being JOINed.\n",
    "\n",
    "![JOIN](https://i.imgur.com/UsNZZoz.png)\n",
    "\n",
    "Now we'll work with an example from a real dataset.  Both examples below count the number of distinct committers and the number of files in several GitHub repositories."
   ]
  },
  {
   "cell_type": "code",
   "execution_count": 4,
   "id": "b4352419",
   "metadata": {
    "execution": {
     "iopub.execute_input": "2021-11-09T00:07:37.147904Z",
     "iopub.status.busy": "2021-11-09T00:07:37.147180Z",
     "iopub.status.idle": "2021-11-09T00:07:53.367231Z",
     "shell.execute_reply": "2021-11-09T00:07:53.368136Z"
    },
    "papermill": {
     "duration": 16.239023,
     "end_time": "2021-11-09T00:07:53.368318",
     "exception": false,
     "start_time": "2021-11-09T00:07:37.129295",
     "status": "completed"
    },
    "tags": []
   },
   "outputs": [
    {
     "name": "stdout",
     "output_type": "stream",
     "text": [
      "Time to run: 11.926 seconds\n",
      "Time to run: 4.293 seconds\n"
     ]
    }
   ],
   "source": [
    "big_join_query = \"\"\"\n",
    "                 SELECT repo,\n",
    "                     COUNT(DISTINCT c.committer.name) as num_committers,\n",
    "                     COUNT(DISTINCT f.id) AS num_files\n",
    "                 FROM `bigquery-public-data.github_repos.commits` AS c,\n",
    "                     UNNEST(c.repo_name) AS repo\n",
    "                 INNER JOIN `bigquery-public-data.github_repos.files` AS f\n",
    "                     ON f.repo_name = repo\n",
    "                 WHERE f.repo_name IN ( 'tensorflow/tensorflow', 'facebook/react', 'twbs/bootstrap', 'apple/swift', 'Microsoft/vscode', 'torvalds/linux')\n",
    "                 GROUP BY repo\n",
    "                 ORDER BY repo\n",
    "                 \"\"\"\n",
    "show_time_to_run(big_join_query)\n",
    "\n",
    "small_join_query = \"\"\"\n",
    "                   WITH commits AS\n",
    "                   (\n",
    "                   SELECT COUNT(DISTINCT committer.name) AS num_committers, repo\n",
    "                   FROM `bigquery-public-data.github_repos.commits`,\n",
    "                       UNNEST(repo_name) as repo\n",
    "                   WHERE repo IN ( 'tensorflow/tensorflow', 'facebook/react', 'twbs/bootstrap', 'apple/swift', 'Microsoft/vscode', 'torvalds/linux')\n",
    "                   GROUP BY repo\n",
    "                   ),\n",
    "                   files AS \n",
    "                   (\n",
    "                   SELECT COUNT(DISTINCT id) AS num_files, repo_name as repo\n",
    "                   FROM `bigquery-public-data.github_repos.files`\n",
    "                   WHERE repo_name IN ( 'tensorflow/tensorflow', 'facebook/react', 'twbs/bootstrap', 'apple/swift', 'Microsoft/vscode', 'torvalds/linux')\n",
    "                   GROUP BY repo\n",
    "                   )\n",
    "                   SELECT commits.repo, commits.num_committers, files.num_files\n",
    "                   FROM commits \n",
    "                   INNER JOIN files\n",
    "                       ON commits.repo = files.repo\n",
    "                   ORDER BY repo\n",
    "                   \"\"\"\n",
    "\n",
    "show_time_to_run(small_join_query)"
   ]
  },
  {
   "cell_type": "markdown",
   "id": "a14f763e",
   "metadata": {
    "papermill": {
     "duration": 0.010407,
     "end_time": "2021-11-09T00:07:53.389456",
     "exception": false,
     "start_time": "2021-11-09T00:07:53.379049",
     "status": "completed"
    },
    "tags": []
   },
   "source": [
    "The first query has a large N:N JOIN.  By rewriting the query to decrease the size of the JOIN, we see it runs much faster."
   ]
  },
  {
   "cell_type": "markdown",
   "id": "8fd2552c",
   "metadata": {
    "papermill": {
     "duration": 0.010512,
     "end_time": "2021-11-09T00:07:53.410857",
     "exception": false,
     "start_time": "2021-11-09T00:07:53.400345",
     "status": "completed"
    },
    "tags": []
   },
   "source": [
    "# Learn more\n",
    "\n",
    "These strategies and many more are discussed in [this thorough guide](https://www.oreilly.com/library/view/google-bigquery-the/9781492044451/) to Google BigQuery.  If you'd like to learn more about how to write more efficient queries (or deepen your knowledge of all things BigQuery), you're encouraged to check it out!\n",
    "\n",
    "# Your turn\n",
    "Leverage what you've learned to **[improve the design](https://www.kaggle.com/kernels/fork/5045822)** of several queries."
   ]
  },
  {
   "cell_type": "markdown",
   "id": "e984e0ae",
   "metadata": {
    "papermill": {
     "duration": 0.010695,
     "end_time": "2021-11-09T00:07:53.432170",
     "exception": false,
     "start_time": "2021-11-09T00:07:53.421475",
     "status": "completed"
    },
    "tags": []
   },
   "source": [
    "---\n",
    "\n",
    "\n",
    "\n",
    "\n",
    "*Have questions or comments? Visit the [course discussion forum](https://www.kaggle.com/learn/advanced-sql/discussion) to chat with other learners.*"
   ]
  }
 ],
 "metadata": {
  "kernelspec": {
   "display_name": "Python 3",
   "language": "python",
   "name": "python3"
  },
  "language_info": {
   "codemirror_mode": {
    "name": "ipython",
    "version": 3
   },
   "file_extension": ".py",
   "mimetype": "text/x-python",
   "name": "python",
   "nbconvert_exporter": "python",
   "pygments_lexer": "ipython3",
   "version": "3.7.10"
  },
  "papermill": {
   "default_parameters": {},
   "duration": 28.078132,
   "end_time": "2021-11-09T00:07:54.052636",
   "environment_variables": {},
   "exception": null,
   "input_path": "__notebook__.ipynb",
   "output_path": "__notebook__.ipynb",
   "parameters": {},
   "start_time": "2021-11-09T00:07:25.974504",
   "version": "2.3.3"
  }
 },
 "nbformat": 4,
 "nbformat_minor": 5
}
